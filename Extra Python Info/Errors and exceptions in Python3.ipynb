{
 "cells": [
  {
   "cell_type": "markdown",
   "metadata": {},
   "source": [
    "https://www.youtube.com/watch?v=xz2B3bfNjEk&list=PLHz_AreHm4dksnH2jVTIVNviIMBVYyFnH&t=15s"
   ]
  },
  {
   "cell_type": "code",
   "execution_count": 7,
   "metadata": {},
   "outputs": [
    {
     "name": "stdout",
     "output_type": "stream",
     "text": [
      "3.5.6\n"
     ]
    }
   ],
   "source": [
    "from platform import python_version\n",
    "\n",
    "print(python_version())"
   ]
  },
  {
   "cell_type": "code",
   "execution_count": 9,
   "metadata": {},
   "outputs": [
    {
     "name": "stdout",
     "output_type": "stream",
     "text": [
      "oi\n"
     ]
    }
   ],
   "source": [
    "print('oi')"
   ]
  },
  {
   "cell_type": "markdown",
   "metadata": {},
   "source": [
    "Mtas vezes temos \"name error: name ... is not defined\", erro de nome.\n",
    "Quando o erro nao eh sintatico, tipo primt(x) que ta escrito errado, falta parentese, etc...\n",
    "nao se chama erro, se chama exception!\n",
    "exemplo:"
   ]
  },
  {
   "cell_type": "code",
   "execution_count": 13,
   "metadata": {},
   "outputs": [
    {
     "name": "stdout",
     "output_type": "stream",
     "text": [
      "digite um numero: 30\n",
      "Vc digitou o numero 30\n"
     ]
    }
   ],
   "source": [
    "n=int(input('digite um numero: '))\n",
    "#print formatado\n",
    "print(\"Vc digitou o numero {}\".format(n))\n"
   ]
  },
  {
   "cell_type": "code",
   "execution_count": 23,
   "metadata": {},
   "outputs": [
    {
     "data": {
      "text/plain": [
       "'Hello, Eric. You are 74.'"
      ]
     },
     "execution_count": 23,
     "metadata": {},
     "output_type": "execute_result"
    }
   ],
   "source": [
    "name = \"Eric\"\n",
    "age = 74\n",
    "\"Hello, {}. You are {}.\".format(name,age)"
   ]
  },
  {
   "cell_type": "code",
   "execution_count": 21,
   "metadata": {},
   "outputs": [],
   "source": [
    "name = \"Eric\"\n",
    "age = 74\n",
    "a=\"Hello, {}. You are {}.\".format(name,age)"
   ]
  },
  {
   "cell_type": "code",
   "execution_count": 22,
   "metadata": {},
   "outputs": [
    {
     "data": {
      "text/plain": [
       "'Hello, Eric. You are 74.'"
      ]
     },
     "execution_count": 22,
     "metadata": {},
     "output_type": "execute_result"
    }
   ],
   "source": [
    "a"
   ]
  },
  {
   "cell_type": "code",
   "execution_count": 24,
   "metadata": {},
   "outputs": [
    {
     "name": "stdout",
     "output_type": "stream",
     "text": [
      "9.6543\n"
     ]
    }
   ],
   "source": [
    "dist=9.654326798900\n",
    "print(\"%0.4f\" %dist)"
   ]
  },
  {
   "cell_type": "markdown",
   "metadata": {},
   "source": [
    "Lidando com exceções: toda exceção é filha de uma classe maior chamada Exception. Não são erros sintáticos, mas estão acontecendo. Até o momento, eu venho mandando acontecer algumas coisas. Imprima, leia, some...agora vou mandar ele tentar fazer algo.  \n",
    "TRY...EXCEPT  \n",
    "tente algo, se não acontece alguma coisa.  \n",
    "try   \n",
    "(comandos que normalmente dariam problemas)  \n",
    "except   \n",
    "(se eu tentar a coisa de cima e der problema, q q vai acontecer?)  \n"
   ]
  },
  {
   "cell_type": "code",
   "execution_count": 27,
   "metadata": {},
   "outputs": [
    {
     "data": {
      "text/html": [
       "<img src=\"https://files.realpython.com/media/try_except_else_finally.a7fac6c36c55.png\"/>"
      ],
      "text/plain": [
       "<IPython.core.display.Image object>"
      ]
     },
     "execution_count": 27,
     "metadata": {},
     "output_type": "execute_result"
    }
   ],
   "source": [
    "from IPython.display import Image\n",
    "from IPython.core.display import HTML \n",
    "Image(url= \"https://files.realpython.com/media/try_except_else_finally.a7fac6c36c55.png\")"
   ]
  },
  {
   "cell_type": "code",
   "execution_count": 28,
   "metadata": {},
   "outputs": [
    {
     "name": "stdout",
     "output_type": "stream",
     "text": [
      "numerador: 4\n",
      "denominador: 0\n",
      "infelizmente tivemos um probleminha...\n"
     ]
    },
    {
     "ename": "NameError",
     "evalue": "name 'r' is not defined",
     "output_type": "error",
     "traceback": [
      "\u001b[0;31m---------------------------------------------------------------------------\u001b[0m",
      "\u001b[0;31mNameError\u001b[0m                                 Traceback (most recent call last)",
      "\u001b[0;32m<ipython-input-28-7d61b30ae4f3>\u001b[0m in \u001b[0;36m<module>\u001b[0;34m()\u001b[0m\n\u001b[1;32m      5\u001b[0m \u001b[0;32mexcept\u001b[0m\u001b[0;34m:\u001b[0m\u001b[0;34m\u001b[0m\u001b[0m\n\u001b[1;32m      6\u001b[0m     \u001b[0mprint\u001b[0m\u001b[0;34m(\u001b[0m\u001b[0;34m'infelizmente tivemos um probleminha...'\u001b[0m\u001b[0;34m)\u001b[0m\u001b[0;34m\u001b[0m\u001b[0m\n\u001b[0;32m----> 7\u001b[0;31m \u001b[0mprint\u001b[0m\u001b[0;34m(\u001b[0m\u001b[0;34m'o resultado eh {}'\u001b[0m\u001b[0;34m.\u001b[0m\u001b[0mformat\u001b[0m\u001b[0;34m(\u001b[0m\u001b[0mr\u001b[0m\u001b[0;34m)\u001b[0m\u001b[0;34m)\u001b[0m\u001b[0;34m\u001b[0m\u001b[0m\n\u001b[0m",
      "\u001b[0;31mNameError\u001b[0m: name 'r' is not defined"
     ]
    }
   ],
   "source": [
    "try:\n",
    "    a=int(input('numerador: '))\n",
    "    b=int(input('denominador: '))\n",
    "    r=a/b\n",
    "except:\n",
    "    print('infelizmente tivemos um probleminha...')\n",
    "print('o resultado eh {}'.format(r))"
   ]
  },
  {
   "cell_type": "code",
   "execution_count": 29,
   "metadata": {},
   "outputs": [
    {
     "name": "stdout",
     "output_type": "stream",
     "text": [
      "numerador: oi\n",
      "infelizmente tivemos um probleminha...\n"
     ]
    },
    {
     "ename": "NameError",
     "evalue": "name 'r' is not defined",
     "output_type": "error",
     "traceback": [
      "\u001b[0;31m---------------------------------------------------------------------------\u001b[0m",
      "\u001b[0;31mNameError\u001b[0m                                 Traceback (most recent call last)",
      "\u001b[0;32m<ipython-input-29-7d61b30ae4f3>\u001b[0m in \u001b[0;36m<module>\u001b[0;34m()\u001b[0m\n\u001b[1;32m      5\u001b[0m \u001b[0;32mexcept\u001b[0m\u001b[0;34m:\u001b[0m\u001b[0;34m\u001b[0m\u001b[0m\n\u001b[1;32m      6\u001b[0m     \u001b[0mprint\u001b[0m\u001b[0;34m(\u001b[0m\u001b[0;34m'infelizmente tivemos um probleminha...'\u001b[0m\u001b[0;34m)\u001b[0m\u001b[0;34m\u001b[0m\u001b[0m\n\u001b[0;32m----> 7\u001b[0;31m \u001b[0mprint\u001b[0m\u001b[0;34m(\u001b[0m\u001b[0;34m'o resultado eh {}'\u001b[0m\u001b[0;34m.\u001b[0m\u001b[0mformat\u001b[0m\u001b[0;34m(\u001b[0m\u001b[0mr\u001b[0m\u001b[0;34m)\u001b[0m\u001b[0;34m)\u001b[0m\u001b[0;34m\u001b[0m\u001b[0m\n\u001b[0m",
      "\u001b[0;31mNameError\u001b[0m: name 'r' is not defined"
     ]
    }
   ],
   "source": [
    "try:\n",
    "    a=int(input('numerador: '))\n",
    "    b=int(input('denominador: '))\n",
    "    r=a/b\n",
    "except:\n",
    "    print('infelizmente tivemos um probleminha...')\n",
    "print('o resultado eh {}'.format(r))"
   ]
  },
  {
   "cell_type": "code",
   "execution_count": 30,
   "metadata": {},
   "outputs": [
    {
     "name": "stdout",
     "output_type": "stream",
     "text": [
      "numerador: 6\n",
      "denominador: 5\n",
      "o resultado eh 1.2\n"
     ]
    }
   ],
   "source": [
    "try:\n",
    "    a=int(input('numerador: '))\n",
    "    b=int(input('denominador: '))\n",
    "    r=a/b\n",
    "except:\n",
    "    print('infelizmente tivemos um probleminha...')\n",
    "print('o resultado eh {}'.format(r))"
   ]
  },
  {
   "cell_type": "code",
   "execution_count": 31,
   "metadata": {},
   "outputs": [
    {
     "name": "stdout",
     "output_type": "stream",
     "text": [
      "numerador: 6\n",
      "denominador: 0\n",
      "infelizmente tivemos um probleminha...\n"
     ]
    }
   ],
   "source": [
    "try:\n",
    "    a=int(input('numerador: '))\n",
    "    b=int(input('denominador: '))\n",
    "    r=a/b\n",
    "except:\n",
    "    print('infelizmente tivemos um probleminha...')\n",
    "else:\n",
    "    print('o resultado eh {}'.format(r))"
   ]
  },
  {
   "cell_type": "markdown",
   "metadata": {},
   "source": [
    "### Veja acima como ficou diferente com o else. O que aconteceu? No else vc vai colocar o que acontece se der certo seu try. Entao se der errado o try, ele nem vai tentar calcular o r, vai sair no except e pronto, nao vai gerar mensagem nenhuma de erro.  \n",
    "#### Isso eh tratamento de erro!!!"
   ]
  },
  {
   "cell_type": "markdown",
   "metadata": {},
   "source": [
    "### No esquema acima, vc ve que tem o ``finally:``, que vai acontecer independente se deu erro ou se deu falha.  \n",
    "### Else e finally sao opcionais, nao tem problema nao ter!!!"
   ]
  },
  {
   "cell_type": "code",
   "execution_count": 32,
   "metadata": {},
   "outputs": [
    {
     "name": "stdout",
     "output_type": "stream",
     "text": [
      "numerador: 27\n",
      "denominador: 5\n",
      "o resultado eh 5.4\n",
      "volte sempre, mt obrigada\n"
     ]
    }
   ],
   "source": [
    "try:\n",
    "    a=int(input('numerador: '))\n",
    "    b=int(input('denominador: '))\n",
    "    r=a/b\n",
    "except:\n",
    "    print('infelizmente tivemos um probleminha...')\n",
    "else:\n",
    "    print('o resultado eh {}'.format(r))\n",
    "finally: #vai acontecer sempre\n",
    "    print('volte sempre, mt obrigada')"
   ]
  },
  {
   "cell_type": "code",
   "execution_count": 34,
   "metadata": {},
   "outputs": [
    {
     "name": "stdout",
     "output_type": "stream",
     "text": [
      "numerador: 3\n",
      "denominador: oi\n",
      "infelizmente tivemos um probleminha...\n",
      "volte sempre, mt obrigada\n"
     ]
    }
   ],
   "source": [
    "try:\n",
    "    a=int(input('numerador: '))\n",
    "    b=int(input('denominador: '))\n",
    "    r=a/b\n",
    "except:\n",
    "    print('infelizmente tivemos um probleminha...')\n",
    "else:\n",
    "    print('o resultado eh {}'.format(r))\n",
    "finally: #vai acontecer sempre\n",
    "    print('volte sempre, mt obrigada')"
   ]
  },
  {
   "cell_type": "markdown",
   "metadata": {},
   "source": [
    "# Mostrando qual foi o erro:  \n",
    "abaixo podemos ver que foi erro de valor."
   ]
  },
  {
   "cell_type": "code",
   "execution_count": 35,
   "metadata": {},
   "outputs": [
    {
     "name": "stdout",
     "output_type": "stream",
     "text": [
      "numerador: 3\n",
      "denominador: oi\n",
      "problema encontrado foi <class 'ValueError'>\n",
      "volte sempre, mt obrigada\n"
     ]
    }
   ],
   "source": [
    "try:\n",
    "    a=int(input('numerador: '))\n",
    "    b=int(input('denominador: '))\n",
    "    r=a/b\n",
    "except Exception as erro: #agora tenho uma variavel q posso mostrar a formatacao\n",
    "    print('problema encontrado foi {}'.format(erro.__class__))\n",
    "else:\n",
    "    print('o resultado eh {}'.format(r))\n",
    "finally: #vai acontecer sempre\n",
    "    print('volte sempre, mt obrigada')"
   ]
  },
  {
   "cell_type": "markdown",
   "metadata": {},
   "source": [
    "Um mesmo try pode ter varios excepts.  \n",
    "except TypeError: codigo 1  \n",
    "except ValueError: codigo 2  \n",
    "except OSError: codigo 3  \n",
    "else:  \n",
    "finally:  \n"
   ]
  },
  {
   "cell_type": "code",
   "execution_count": 37,
   "metadata": {},
   "outputs": [
    {
     "name": "stdout",
     "output_type": "stream",
     "text": [
      "numerador: 9\n",
      "denominador: oi\n",
      "vc digitou tipo de dados invalidos\n",
      "volte sempre, mt obrigada\n"
     ]
    }
   ],
   "source": [
    "#refinando...\n",
    "try:\n",
    "    a=int(input('numerador: '))\n",
    "    b=int(input('denominador: '))\n",
    "    r=a/b\n",
    "except (ValueError,TypeError):\n",
    "    print('vc digitou tipo de dados invalidos')\n",
    "except ZeroDivisionError:\n",
    "    print('nao poderemos dividir nenhum valor por zero!')\n",
    "else:\n",
    "    print('o resultado eh {}'.format(r))\n",
    "finally: #vai acontecer sempre\n",
    "    print('volte sempre, mt obrigada')"
   ]
  },
  {
   "cell_type": "code",
   "execution_count": 38,
   "metadata": {},
   "outputs": [
    {
     "name": "stdout",
     "output_type": "stream",
     "text": [
      "numerador: 9\n",
      "denominador: 0\n",
      "nao poderemos dividir nenhum valor por zero!\n",
      "volte sempre, mt obrigada\n"
     ]
    }
   ],
   "source": [
    "#refinando...\n",
    "try:\n",
    "    a=int(input('numerador: '))\n",
    "    b=int(input('denominador: '))\n",
    "    r=a/b\n",
    "except (ValueError,TypeError):\n",
    "    print('vc digitou tipod de dados invalidos')\n",
    "except ZeroDivisionError:\n",
    "    print('nao poderemos dividir nenhum valor por zero!')\n",
    "else:\n",
    "    print('o resultado eh {}'.format(r))\n",
    "finally: #vai acontecer sempre\n",
    "    print('volte sempre, mt obrigada')"
   ]
  },
  {
   "cell_type": "code",
   "execution_count": 39,
   "metadata": {},
   "outputs": [
    {
     "name": "stdout",
     "output_type": "stream",
     "text": [
      "numerador: 6\n",
      "denominador: 0\n",
      "nao poderemos dividir nenhum valor por zero!\n",
      "volte sempre, mt obrigada\n"
     ]
    }
   ],
   "source": [
    "#refinando...\n",
    "try:\n",
    "    a=int(input('numerador: '))\n",
    "    b=int(input('denominador: '))\n",
    "    r=a/b\n",
    "except (ValueError,TypeError):\n",
    "    print('vc digitou tipod de dados invalidos')\n",
    "except ZeroDivisionError:\n",
    "    print('nao poderemos dividir nenhum valor por zero!')\n",
    "except Exception as erro:\n",
    "    print('problema encontrado foi {}'.format(erro.__cause__))\n",
    "else:\n",
    "    print('o resultado eh {}'.format(r))\n",
    "finally: #vai acontecer sempre\n",
    "    print('volte sempre, mt obrigada')"
   ]
  },
  {
   "cell_type": "code",
   "execution_count": 40,
   "metadata": {},
   "outputs": [],
   "source": [
    "import requests\n",
    "\n",
    "def url_ok(url):\n",
    "    r = requests.head(url)\n",
    "    return r.status_code == 200"
   ]
  },
  {
   "cell_type": "code",
   "execution_count": 41,
   "metadata": {},
   "outputs": [
    {
     "data": {
      "text/plain": [
       "True"
      ]
     },
     "execution_count": 41,
     "metadata": {},
     "output_type": "execute_result"
    }
   ],
   "source": [
    "url_ok('http://www.pudim.com.br/')"
   ]
  },
  {
   "cell_type": "code",
   "execution_count": null,
   "metadata": {},
   "outputs": [],
   "source": []
  },
  {
   "cell_type": "code",
   "execution_count": null,
   "metadata": {},
   "outputs": [],
   "source": []
  },
  {
   "cell_type": "code",
   "execution_count": null,
   "metadata": {},
   "outputs": [],
   "source": []
  },
  {
   "cell_type": "code",
   "execution_count": null,
   "metadata": {},
   "outputs": [],
   "source": []
  },
  {
   "cell_type": "code",
   "execution_count": null,
   "metadata": {},
   "outputs": [],
   "source": []
  },
  {
   "cell_type": "code",
   "execution_count": null,
   "metadata": {},
   "outputs": [],
   "source": []
  },
  {
   "cell_type": "code",
   "execution_count": null,
   "metadata": {},
   "outputs": [],
   "source": []
  },
  {
   "cell_type": "code",
   "execution_count": null,
   "metadata": {},
   "outputs": [],
   "source": []
  }
 ],
 "metadata": {
  "kernelspec": {
   "display_name": "Python [default]",
   "language": "python",
   "name": "python3"
  },
  "language_info": {
   "codemirror_mode": {
    "name": "ipython",
    "version": 3
   },
   "file_extension": ".py",
   "mimetype": "text/x-python",
   "name": "python",
   "nbconvert_exporter": "python",
   "pygments_lexer": "ipython3",
   "version": "3.5.6"
  }
 },
 "nbformat": 4,
 "nbformat_minor": 1
}
