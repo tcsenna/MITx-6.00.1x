{
 "cells": [
  {
   "cell_type": "markdown",
   "metadata": {},
   "source": [
    "Problem set 1:"
   ]
  },
  {
   "cell_type": "code",
   "execution_count": 2,
   "metadata": {},
   "outputs": [
    {
     "name": "stdout",
     "output_type": "stream",
     "text": [
      "Number of vowels: 5\n"
     ]
    }
   ],
   "source": [
    "# Problem 1\n",
    "# (10/10 points)\n",
    "# Assume s is a string of lower case characters.\n",
    "# Write a program that counts up the number of vowels contained in the string s. Valid vowels are: 'a', 'e', 'i', 'o', and 'u'.\n",
    "# For example, if s = 'azcbobobegghakl', your program should print:\n",
    "# Number of vowels: 5\n",
    "\n",
    "# Paste your code into this box\n",
    "\n",
    "s = 'azcbobobegghakl'\n",
    "n=0\n",
    "for i in s:\n",
    "    if i in 'aeiou':\n",
    "        n+=1\n",
    "print('Number of vowels:', n)\n"
   ]
  },
  {
   "cell_type": "code",
   "execution_count": 1,
   "metadata": {},
   "outputs": [
    {
     "name": "stdout",
     "output_type": "stream",
     "text": [
      "3\n"
     ]
    }
   ],
   "source": [
    "# Problem 2\n",
    "# (10/10 points)\n",
    "# Assume s is a string of lower case characters.\n",
    "# Write a program that prints the number of times the string 'bob' occurs in s. For example, if s = 'azcbobobegghakl', then your\n",
    "# program should print\n",
    "# Number of times bob occurs is: 2\n",
    "\n",
    "# Paste your code into this box\n",
    "s = 'bobksrebobob'\n",
    "bob=0\n",
    "i=0\n",
    "l=len(s)\n",
    "while (i<=l-3):\n",
    "    if s[i] == 'b' and s[i + 1] == 'o' and s[i + 2] == 'b':\n",
    "        bob+= 1\n",
    "    i+=1\n",
    "print(bob)"
   ]
  },
  {
   "cell_type": "code",
   "execution_count": null,
   "metadata": {},
   "outputs": [],
   "source": [
    "# Problem 3\n",
    "\n",
    "# (15/15 points)\n",
    "# Assume s is a string of lower case characters.\n",
    "\n",
    "# Write a program that prints the longest substring of s in which the letters occur in alphabetical order. For example, if\n",
    "# s = 'azcbobobegghakl', then your program should print:\n",
    "# Longest substring in alphabetical order is: beggh\n",
    "\n",
    "# In the case of ties, print the first substring. For example, if s = 'abcbcd', then your program should print:\n",
    "# Longest substring in alphabetical order is: abc\n",
    "\n",
    "# Note: This problem may be challenging. We encourage you to work smart. If you've spent more than a few hours on this problem, we\n",
    "# suggest that you move on to a different part of the course. If you have time, come back to this problem after you've had a break and\n",
    "# cleared your head.\n",
    "\n",
    "\n",
    "# Paste your code into this box\n",
    "\n",
    "s = 'azcbobobegghakl'\n",
    "\n",
    "\n",
    "\n",
    "\n"
   ]
  }
 ],
 "metadata": {
  "kernelspec": {
   "display_name": "Python 3",
   "language": "python",
   "name": "python3"
  },
  "language_info": {
   "codemirror_mode": {
    "name": "ipython",
    "version": 3
   },
   "file_extension": ".py",
   "mimetype": "text/x-python",
   "name": "python",
   "nbconvert_exporter": "python",
   "pygments_lexer": "ipython3",
   "version": "3.7.0"
  }
 },
 "nbformat": 4,
 "nbformat_minor": 2
}
