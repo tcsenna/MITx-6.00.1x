{
 "cells": [
  {
   "cell_type": "markdown",
   "metadata": {},
   "source": [
    "# Approximate Solutions\n",
    "Good enough solution  \n",
    "Start with a guess and increment by small value  \n",
    "Decreasing increment size leads to a slower program, but increasing eps leads to a less accurate answer"
   ]
  },
  {
   "cell_type": "code",
   "execution_count": null,
   "metadata": {},
   "outputs": [],
   "source": [
    "#cube root\n",
    "cube=29\n",
    "eps=0.01 #how close i want to get to the answer\n",
    "#initial guess\n",
    "guess=0\n",
    "incr=0.001\n",
    "n_guesses=0\n",
    "while abs(guess**3-cube)>=eps and guess<=cube:\n",
    "    guess+=incr\n",
    "    n_guesses+=1\n",
    "print('the number of guesses was', n_guesses)\n",
    "if abs(guess**3-cube)>=eps:\n",
    "    print('I failed on cube root of', cube)\n",
    "else:\n",
    "    print(guess,'is close to the cube root of',cube)"
   ]
  },
  {
   "cell_type": "markdown",
   "metadata": {},
   "source": [
    "### Bisection Search:   \n",
    "logarithm time algorithm  \n",
    "works well on problems with ordering property- value of function being solved varies monotonically with input value  \n",
    "if the guess is not close enough to the half part, is it too big or too small?  \n",
    "search space:  \n",
    "first guess n/2  \n",
    "second guess n/4  \n",
    "kth guess: n/2^k  \n",
    "guess converges on the order of log(2)n steps  \n",
    "bisection search works when value of function varies monotonically with input  \n"
   ]
  },
  {
   "cell_type": "code",
   "execution_count": null,
   "metadata": {},
   "outputs": [],
   "source": [
    "#modify to with negative cubes and modify to work with x<1\n"
   ]
  },
  {
   "cell_type": "markdown",
   "metadata": {},
   "source": [
    "### Guess my number  \n",
    "In this problem, you'll create a program that guesses a secret number!  \n",
    "\n",
    "The program works as follows: you (the user) thinks of an integer between 0 (inclusive) and 100 (not inclusive). The computer makes guesses, and you give it input - is its guess too high or too low? Using bisection search, the computer will guess the user's secret number!  \n",
    "\n",
    "Here is a transcript of an example session:    \n",
    "Please think of a number between 0 and 100!  \n",
    "Is your secret number 50?  \n",
    "Enter 'h' to indicate the guess is too high. Enter 'l' to indicate the guess is too low. Enter 'c' to indicate I guessed correctly. l  \n",
    "Is your secret number 75?  \n",
    "Enter 'h' to indicate the guess is too high. Enter 'l' to indicate the guess is too low. Enter 'c' to indicate I guessed correctly. l  \n",
    "Is your secret number 87?  \n",
    "Enter 'h' to indicate the guess is too high. Enter 'l' to indicate the guess is too low. Enter 'c' to indicate I guessed correctly. h  \n",
    "Is your secret number 81?  \n",
    "Enter 'h' to indicate the guess is too high. Enter 'l' to indicate the guess is too low. Enter 'c' to indicate I guessed correctly. l  \n",
    "Is your secret number 84?  \n",
    "Enter 'h' to indicate the guess is too high. Enter 'l' to indicate the guess is too low. Enter 'c' to indicate I guessed correctly. h  \n",
    "Is your secret number 82?  \n",
    "Enter 'h' to indicate the guess is too high. Enter 'l' to indicate the guess is too low. Enter 'c' to indicate I guessed correctly. l   \n",
    "Is your secret number 83?  \n",
    "Enter 'h' to indicate the guess is too high. Enter 'l' to indicate the guess is too low. Enter 'c' to indicate I guessed correctly. c  \n",
    "Game over. Your secret number was: 83  "
   ]
  },
  {
   "cell_type": "code",
   "execution_count": null,
   "metadata": {},
   "outputs": [],
   "source": [
    "# Paste your code into this box\n",
    "\n",
    "print(\"Please think of a number between 0 and 100!\")\n",
    "low=0\n",
    "high=100\n",
    "guess=int((high+low)/2)\n",
    "while (True):\n",
    "    guess=(high+low)//2\n",
    "    print(\"Is your secret number \",guess,\"?\")\n",
    "    resp=input(\"Enter 'h' to indicate the guess is too high. Enter 'l' to indicate the guess is too low. Enter 'c' to indicate I guessed correctly.\")\n",
    "    if (resp=='l'):\n",
    "        low=guess\n",
    "    elif (resp=='h'):\n",
    "        high=guess\n",
    "    elif (resp=='c'):\n",
    "        print('Game over. Your secret number was:', str(guess))\n",
    "        break\n",
    "    else: \n",
    "        print(\"Sorry, I did not understand your input.\")\n"
   ]
  },
  {
   "cell_type": "markdown",
   "metadata": {},
   "source": [
    "**Floats and fractions** --- falta ver e fazer os exercícios. Newton Rhapson tb!"
   ]
  },
  {
   "cell_type": "code",
   "execution_count": 6,
   "metadata": {},
   "outputs": [
    {
     "data": {
      "text/plain": [
       "5"
      ]
     },
     "execution_count": 6,
     "metadata": {},
     "output_type": "execute_result"
    }
   ],
   "source": [
    "11//2"
   ]
  },
  {
   "cell_type": "code",
   "execution_count": null,
   "metadata": {},
   "outputs": [],
   "source": []
  },
  {
   "cell_type": "code",
   "execution_count": 5,
   "metadata": {},
   "outputs": [
    {
     "name": "stdout",
     "output_type": "stream",
     "text": [
      "3\n"
     ]
    }
   ],
   "source": []
  },
  {
   "cell_type": "code",
   "execution_count": 1,
   "metadata": {},
   "outputs": [
    {
     "data": {
      "text/plain": [
       "10"
      ]
     },
     "execution_count": 1,
     "metadata": {},
     "output_type": "execute_result"
    }
   ],
   "source": []
  },
  {
   "cell_type": "code",
   "execution_count": null,
   "metadata": {},
   "outputs": [],
   "source": []
  }
 ],
 "metadata": {
  "kernelspec": {
   "display_name": "Python 3",
   "language": "python",
   "name": "python3"
  },
  "language_info": {
   "codemirror_mode": {
    "name": "ipython",
    "version": 3
   },
   "file_extension": ".py",
   "mimetype": "text/x-python",
   "name": "python",
   "nbconvert_exporter": "python",
   "pygments_lexer": "ipython3",
   "version": "3.7.0"
  }
 },
 "nbformat": 4,
 "nbformat_minor": 2
}
